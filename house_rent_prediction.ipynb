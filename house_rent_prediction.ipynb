{
 "cells": [
  {
   "cell_type": "markdown",
   "id": "7dae5346",
   "metadata": {},
   "source": [
    "## Load the dataset"
   ]
  },
  {
   "cell_type": "markdown",
   "id": "fafda442",
   "metadata": {},
   "source": [
    "**Dataset Link:**\n",
    "**https://www.kaggle.com/datasets/taeefnajib/house-rent-in-dhaka-city/data**"
   ]
  },
  {
   "cell_type": "code",
   "execution_count": 313,
   "id": "a9821864",
   "metadata": {},
   "outputs": [],
   "source": [
    "import pandas as pd\n",
    "import numpy as np\n",
    "import matplotlib.pyplot as plt"
   ]
  },
  {
   "cell_type": "code",
   "execution_count": 314,
   "id": "c829fd1c",
   "metadata": {},
   "outputs": [
    {
     "data": {
      "text/html": [
       "<div>\n",
       "<style scoped>\n",
       "    .dataframe tbody tr th:only-of-type {\n",
       "        vertical-align: middle;\n",
       "    }\n",
       "\n",
       "    .dataframe tbody tr th {\n",
       "        vertical-align: top;\n",
       "    }\n",
       "\n",
       "    .dataframe thead th {\n",
       "        text-align: right;\n",
       "    }\n",
       "</style>\n",
       "<table border=\"1\" class=\"dataframe\">\n",
       "  <thead>\n",
       "    <tr style=\"text-align: right;\">\n",
       "      <th></th>\n",
       "      <th>Unnamed: 0</th>\n",
       "      <th>Location</th>\n",
       "      <th>Area</th>\n",
       "      <th>Bed</th>\n",
       "      <th>Bath</th>\n",
       "      <th>Price</th>\n",
       "    </tr>\n",
       "  </thead>\n",
       "  <tbody>\n",
       "    <tr>\n",
       "      <th>0</th>\n",
       "      <td>0</td>\n",
       "      <td>Block H, Bashundhara R-A, Dhaka</td>\n",
       "      <td>1,600 sqft</td>\n",
       "      <td>3</td>\n",
       "      <td>3</td>\n",
       "      <td>20 Thousand</td>\n",
       "    </tr>\n",
       "    <tr>\n",
       "      <th>1</th>\n",
       "      <td>1</td>\n",
       "      <td>Farmgate, Tejgaon, Dhaka</td>\n",
       "      <td>900 sqft</td>\n",
       "      <td>2</td>\n",
       "      <td>2</td>\n",
       "      <td>20 Thousand</td>\n",
       "    </tr>\n",
       "    <tr>\n",
       "      <th>2</th>\n",
       "      <td>2</td>\n",
       "      <td>Block B, Nobodoy Housing Society, Mohammadpur,...</td>\n",
       "      <td>1,250 sqft</td>\n",
       "      <td>3</td>\n",
       "      <td>3</td>\n",
       "      <td>18 Thousand</td>\n",
       "    </tr>\n",
       "    <tr>\n",
       "      <th>3</th>\n",
       "      <td>3</td>\n",
       "      <td>Gulshan 1, Gulshan, Dhaka</td>\n",
       "      <td>2,200 sqft</td>\n",
       "      <td>3</td>\n",
       "      <td>4</td>\n",
       "      <td>75 Thousand</td>\n",
       "    </tr>\n",
       "    <tr>\n",
       "      <th>4</th>\n",
       "      <td>4</td>\n",
       "      <td>Baridhara, Dhaka</td>\n",
       "      <td>2,200 sqft</td>\n",
       "      <td>3</td>\n",
       "      <td>3</td>\n",
       "      <td>75 Thousand</td>\n",
       "    </tr>\n",
       "  </tbody>\n",
       "</table>\n",
       "</div>"
      ],
      "text/plain": [
       "   Unnamed: 0                                           Location        Area  \\\n",
       "0           0                    Block H, Bashundhara R-A, Dhaka  1,600 sqft   \n",
       "1           1                           Farmgate, Tejgaon, Dhaka    900 sqft   \n",
       "2           2  Block B, Nobodoy Housing Society, Mohammadpur,...  1,250 sqft   \n",
       "3           3                          Gulshan 1, Gulshan, Dhaka  2,200 sqft   \n",
       "4           4                                   Baridhara, Dhaka  2,200 sqft   \n",
       "\n",
       "   Bed  Bath        Price  \n",
       "0    3     3  20 Thousand  \n",
       "1    2     2  20 Thousand  \n",
       "2    3     3  18 Thousand  \n",
       "3    3     4  75 Thousand  \n",
       "4    3     3  75 Thousand  "
      ]
     },
     "execution_count": 314,
     "metadata": {},
     "output_type": "execute_result"
    }
   ],
   "source": [
    "df=pd.read_csv('houserentdhaka.csv')\n",
    "df.head()"
   ]
  },
  {
   "cell_type": "markdown",
   "id": "a5df97fc",
   "metadata": {},
   "source": [
    "**We need to drop unnamed: 0 column because it doesnt put any impact in our prediction**"
   ]
  },
  {
   "cell_type": "code",
   "execution_count": 315,
   "id": "34e43169",
   "metadata": {},
   "outputs": [
    {
     "data": {
      "text/html": [
       "<div>\n",
       "<style scoped>\n",
       "    .dataframe tbody tr th:only-of-type {\n",
       "        vertical-align: middle;\n",
       "    }\n",
       "\n",
       "    .dataframe tbody tr th {\n",
       "        vertical-align: top;\n",
       "    }\n",
       "\n",
       "    .dataframe thead th {\n",
       "        text-align: right;\n",
       "    }\n",
       "</style>\n",
       "<table border=\"1\" class=\"dataframe\">\n",
       "  <thead>\n",
       "    <tr style=\"text-align: right;\">\n",
       "      <th></th>\n",
       "      <th>Location</th>\n",
       "      <th>Area</th>\n",
       "      <th>Bed</th>\n",
       "      <th>Bath</th>\n",
       "      <th>Price</th>\n",
       "    </tr>\n",
       "  </thead>\n",
       "  <tbody>\n",
       "    <tr>\n",
       "      <th>0</th>\n",
       "      <td>Block H, Bashundhara R-A, Dhaka</td>\n",
       "      <td>1,600 sqft</td>\n",
       "      <td>3</td>\n",
       "      <td>3</td>\n",
       "      <td>20 Thousand</td>\n",
       "    </tr>\n",
       "    <tr>\n",
       "      <th>1</th>\n",
       "      <td>Farmgate, Tejgaon, Dhaka</td>\n",
       "      <td>900 sqft</td>\n",
       "      <td>2</td>\n",
       "      <td>2</td>\n",
       "      <td>20 Thousand</td>\n",
       "    </tr>\n",
       "    <tr>\n",
       "      <th>2</th>\n",
       "      <td>Block B, Nobodoy Housing Society, Mohammadpur,...</td>\n",
       "      <td>1,250 sqft</td>\n",
       "      <td>3</td>\n",
       "      <td>3</td>\n",
       "      <td>18 Thousand</td>\n",
       "    </tr>\n",
       "    <tr>\n",
       "      <th>3</th>\n",
       "      <td>Gulshan 1, Gulshan, Dhaka</td>\n",
       "      <td>2,200 sqft</td>\n",
       "      <td>3</td>\n",
       "      <td>4</td>\n",
       "      <td>75 Thousand</td>\n",
       "    </tr>\n",
       "    <tr>\n",
       "      <th>4</th>\n",
       "      <td>Baridhara, Dhaka</td>\n",
       "      <td>2,200 sqft</td>\n",
       "      <td>3</td>\n",
       "      <td>3</td>\n",
       "      <td>75 Thousand</td>\n",
       "    </tr>\n",
       "  </tbody>\n",
       "</table>\n",
       "</div>"
      ],
      "text/plain": [
       "                                            Location        Area  Bed  Bath  \\\n",
       "0                    Block H, Bashundhara R-A, Dhaka  1,600 sqft    3     3   \n",
       "1                           Farmgate, Tejgaon, Dhaka    900 sqft    2     2   \n",
       "2  Block B, Nobodoy Housing Society, Mohammadpur,...  1,250 sqft    3     3   \n",
       "3                          Gulshan 1, Gulshan, Dhaka  2,200 sqft    3     4   \n",
       "4                                   Baridhara, Dhaka  2,200 sqft    3     3   \n",
       "\n",
       "         Price  \n",
       "0  20 Thousand  \n",
       "1  20 Thousand  \n",
       "2  18 Thousand  \n",
       "3  75 Thousand  \n",
       "4  75 Thousand  "
      ]
     },
     "execution_count": 315,
     "metadata": {},
     "output_type": "execute_result"
    }
   ],
   "source": [
    "df.drop(['Unnamed: 0'], axis='columns', inplace=True)\n",
    "df.head()"
   ]
  },
  {
   "cell_type": "markdown",
   "id": "0746175e",
   "metadata": {},
   "source": [
    "**Now we check is there any missing vaules in dataframe**"
   ]
  },
  {
   "cell_type": "code",
   "execution_count": 316,
   "id": "a492cd49",
   "metadata": {},
   "outputs": [
    {
     "data": {
      "text/plain": [
       "Location    0\n",
       "Area        0\n",
       "Bed         0\n",
       "Bath        0\n",
       "Price       0\n",
       "dtype: int64"
      ]
     },
     "execution_count": 316,
     "metadata": {},
     "output_type": "execute_result"
    }
   ],
   "source": [
    "df.isnull().sum()"
   ]
  },
  {
   "cell_type": "markdown",
   "id": "47c86e0e",
   "metadata": {},
   "source": [
    "**Now we can see our dataset have two columns named Price and Area where we need just the number, not that string like- Thousand,sqft etc. So now we clean that**"
   ]
  },
  {
   "cell_type": "code",
   "execution_count": 317,
   "id": "33251dd9",
   "metadata": {},
   "outputs": [],
   "source": [
    "multiplier= {\n",
    "    'Thousand': 1000,\n",
    "    'Lakh': 100000,\n",
    "    'Million': 1000000,\n",
    "    'Crore': 10000000\n",
    "}\n",
    "\n",
    "def clean_price(price):\n",
    "    parts = str(price).split()\n",
    "\n",
    "    if len(parts)==2:\n",
    "        num,prefix = parts\n",
    "        return float(num) * multiplier.get(prefix,1)\n",
    "    else:\n",
    "        return float(parts[0])\n",
    "\n",
    "df['Price']=df['Price'].apply(clean_price)"
   ]
  },
  {
   "cell_type": "code",
   "execution_count": 318,
   "id": "8340c28c",
   "metadata": {},
   "outputs": [
    {
     "data": {
      "text/html": [
       "<div>\n",
       "<style scoped>\n",
       "    .dataframe tbody tr th:only-of-type {\n",
       "        vertical-align: middle;\n",
       "    }\n",
       "\n",
       "    .dataframe tbody tr th {\n",
       "        vertical-align: top;\n",
       "    }\n",
       "\n",
       "    .dataframe thead th {\n",
       "        text-align: right;\n",
       "    }\n",
       "</style>\n",
       "<table border=\"1\" class=\"dataframe\">\n",
       "  <thead>\n",
       "    <tr style=\"text-align: right;\">\n",
       "      <th></th>\n",
       "      <th>Location</th>\n",
       "      <th>Area</th>\n",
       "      <th>Bed</th>\n",
       "      <th>Bath</th>\n",
       "      <th>Price</th>\n",
       "    </tr>\n",
       "  </thead>\n",
       "  <tbody>\n",
       "    <tr>\n",
       "      <th>0</th>\n",
       "      <td>Block H, Bashundhara R-A, Dhaka</td>\n",
       "      <td>1,600 sqft</td>\n",
       "      <td>3</td>\n",
       "      <td>3</td>\n",
       "      <td>20000.0</td>\n",
       "    </tr>\n",
       "    <tr>\n",
       "      <th>1</th>\n",
       "      <td>Farmgate, Tejgaon, Dhaka</td>\n",
       "      <td>900 sqft</td>\n",
       "      <td>2</td>\n",
       "      <td>2</td>\n",
       "      <td>20000.0</td>\n",
       "    </tr>\n",
       "    <tr>\n",
       "      <th>2</th>\n",
       "      <td>Block B, Nobodoy Housing Society, Mohammadpur,...</td>\n",
       "      <td>1,250 sqft</td>\n",
       "      <td>3</td>\n",
       "      <td>3</td>\n",
       "      <td>18000.0</td>\n",
       "    </tr>\n",
       "    <tr>\n",
       "      <th>3</th>\n",
       "      <td>Gulshan 1, Gulshan, Dhaka</td>\n",
       "      <td>2,200 sqft</td>\n",
       "      <td>3</td>\n",
       "      <td>4</td>\n",
       "      <td>75000.0</td>\n",
       "    </tr>\n",
       "    <tr>\n",
       "      <th>4</th>\n",
       "      <td>Baridhara, Dhaka</td>\n",
       "      <td>2,200 sqft</td>\n",
       "      <td>3</td>\n",
       "      <td>3</td>\n",
       "      <td>75000.0</td>\n",
       "    </tr>\n",
       "  </tbody>\n",
       "</table>\n",
       "</div>"
      ],
      "text/plain": [
       "                                            Location        Area  Bed  Bath  \\\n",
       "0                    Block H, Bashundhara R-A, Dhaka  1,600 sqft    3     3   \n",
       "1                           Farmgate, Tejgaon, Dhaka    900 sqft    2     2   \n",
       "2  Block B, Nobodoy Housing Society, Mohammadpur,...  1,250 sqft    3     3   \n",
       "3                          Gulshan 1, Gulshan, Dhaka  2,200 sqft    3     4   \n",
       "4                                   Baridhara, Dhaka  2,200 sqft    3     3   \n",
       "\n",
       "     Price  \n",
       "0  20000.0  \n",
       "1  20000.0  \n",
       "2  18000.0  \n",
       "3  75000.0  \n",
       "4  75000.0  "
      ]
     },
     "execution_count": 318,
     "metadata": {},
     "output_type": "execute_result"
    }
   ],
   "source": [
    "df.head()"
   ]
  },
  {
   "cell_type": "code",
   "execution_count": 319,
   "id": "30638463",
   "metadata": {},
   "outputs": [],
   "source": [
    "df['Area']=df['Area'].str.replace(',','').str.replace('sqft','').astype(int)"
   ]
  },
  {
   "cell_type": "code",
   "execution_count": 320,
   "id": "e2b26f76",
   "metadata": {},
   "outputs": [
    {
     "data": {
      "text/html": [
       "<div>\n",
       "<style scoped>\n",
       "    .dataframe tbody tr th:only-of-type {\n",
       "        vertical-align: middle;\n",
       "    }\n",
       "\n",
       "    .dataframe tbody tr th {\n",
       "        vertical-align: top;\n",
       "    }\n",
       "\n",
       "    .dataframe thead th {\n",
       "        text-align: right;\n",
       "    }\n",
       "</style>\n",
       "<table border=\"1\" class=\"dataframe\">\n",
       "  <thead>\n",
       "    <tr style=\"text-align: right;\">\n",
       "      <th></th>\n",
       "      <th>Location</th>\n",
       "      <th>Area</th>\n",
       "      <th>Bed</th>\n",
       "      <th>Bath</th>\n",
       "      <th>Price</th>\n",
       "    </tr>\n",
       "  </thead>\n",
       "  <tbody>\n",
       "    <tr>\n",
       "      <th>0</th>\n",
       "      <td>Block H, Bashundhara R-A, Dhaka</td>\n",
       "      <td>1600</td>\n",
       "      <td>3</td>\n",
       "      <td>3</td>\n",
       "      <td>20000.0</td>\n",
       "    </tr>\n",
       "    <tr>\n",
       "      <th>1</th>\n",
       "      <td>Farmgate, Tejgaon, Dhaka</td>\n",
       "      <td>900</td>\n",
       "      <td>2</td>\n",
       "      <td>2</td>\n",
       "      <td>20000.0</td>\n",
       "    </tr>\n",
       "    <tr>\n",
       "      <th>2</th>\n",
       "      <td>Block B, Nobodoy Housing Society, Mohammadpur,...</td>\n",
       "      <td>1250</td>\n",
       "      <td>3</td>\n",
       "      <td>3</td>\n",
       "      <td>18000.0</td>\n",
       "    </tr>\n",
       "    <tr>\n",
       "      <th>3</th>\n",
       "      <td>Gulshan 1, Gulshan, Dhaka</td>\n",
       "      <td>2200</td>\n",
       "      <td>3</td>\n",
       "      <td>4</td>\n",
       "      <td>75000.0</td>\n",
       "    </tr>\n",
       "    <tr>\n",
       "      <th>4</th>\n",
       "      <td>Baridhara, Dhaka</td>\n",
       "      <td>2200</td>\n",
       "      <td>3</td>\n",
       "      <td>3</td>\n",
       "      <td>75000.0</td>\n",
       "    </tr>\n",
       "  </tbody>\n",
       "</table>\n",
       "</div>"
      ],
      "text/plain": [
       "                                            Location  Area  Bed  Bath    Price\n",
       "0                    Block H, Bashundhara R-A, Dhaka  1600    3     3  20000.0\n",
       "1                           Farmgate, Tejgaon, Dhaka   900    2     2  20000.0\n",
       "2  Block B, Nobodoy Housing Society, Mohammadpur,...  1250    3     3  18000.0\n",
       "3                          Gulshan 1, Gulshan, Dhaka  2200    3     4  75000.0\n",
       "4                                   Baridhara, Dhaka  2200    3     3  75000.0"
      ]
     },
     "execution_count": 320,
     "metadata": {},
     "output_type": "execute_result"
    }
   ],
   "source": [
    "df.head()"
   ]
  },
  {
   "cell_type": "code",
   "execution_count": 321,
   "id": "f6773273",
   "metadata": {},
   "outputs": [
    {
     "data": {
      "text/plain": [
       "dtype('int64')"
      ]
     },
     "execution_count": 321,
     "metadata": {},
     "output_type": "execute_result"
    }
   ],
   "source": [
    "df['Area'].dtype"
   ]
  },
  {
   "cell_type": "markdown",
   "id": "10844dcc",
   "metadata": {},
   "source": [
    "**Add a column name price_per_sqft**"
   ]
  },
  {
   "cell_type": "code",
   "execution_count": 322,
   "id": "aecf0917",
   "metadata": {},
   "outputs": [
    {
     "data": {
      "text/html": [
       "<div>\n",
       "<style scoped>\n",
       "    .dataframe tbody tr th:only-of-type {\n",
       "        vertical-align: middle;\n",
       "    }\n",
       "\n",
       "    .dataframe tbody tr th {\n",
       "        vertical-align: top;\n",
       "    }\n",
       "\n",
       "    .dataframe thead th {\n",
       "        text-align: right;\n",
       "    }\n",
       "</style>\n",
       "<table border=\"1\" class=\"dataframe\">\n",
       "  <thead>\n",
       "    <tr style=\"text-align: right;\">\n",
       "      <th></th>\n",
       "      <th>Location</th>\n",
       "      <th>Area</th>\n",
       "      <th>Bed</th>\n",
       "      <th>Bath</th>\n",
       "      <th>Price</th>\n",
       "      <th>Price_per_sqft</th>\n",
       "    </tr>\n",
       "  </thead>\n",
       "  <tbody>\n",
       "    <tr>\n",
       "      <th>0</th>\n",
       "      <td>Block H, Bashundhara R-A, Dhaka</td>\n",
       "      <td>1600</td>\n",
       "      <td>3</td>\n",
       "      <td>3</td>\n",
       "      <td>20000.0</td>\n",
       "      <td>12.500000</td>\n",
       "    </tr>\n",
       "    <tr>\n",
       "      <th>1</th>\n",
       "      <td>Farmgate, Tejgaon, Dhaka</td>\n",
       "      <td>900</td>\n",
       "      <td>2</td>\n",
       "      <td>2</td>\n",
       "      <td>20000.0</td>\n",
       "      <td>22.222222</td>\n",
       "    </tr>\n",
       "    <tr>\n",
       "      <th>2</th>\n",
       "      <td>Block B, Nobodoy Housing Society, Mohammadpur,...</td>\n",
       "      <td>1250</td>\n",
       "      <td>3</td>\n",
       "      <td>3</td>\n",
       "      <td>18000.0</td>\n",
       "      <td>14.400000</td>\n",
       "    </tr>\n",
       "    <tr>\n",
       "      <th>3</th>\n",
       "      <td>Gulshan 1, Gulshan, Dhaka</td>\n",
       "      <td>2200</td>\n",
       "      <td>3</td>\n",
       "      <td>4</td>\n",
       "      <td>75000.0</td>\n",
       "      <td>34.090909</td>\n",
       "    </tr>\n",
       "    <tr>\n",
       "      <th>4</th>\n",
       "      <td>Baridhara, Dhaka</td>\n",
       "      <td>2200</td>\n",
       "      <td>3</td>\n",
       "      <td>3</td>\n",
       "      <td>75000.0</td>\n",
       "      <td>34.090909</td>\n",
       "    </tr>\n",
       "  </tbody>\n",
       "</table>\n",
       "</div>"
      ],
      "text/plain": [
       "                                            Location  Area  Bed  Bath  \\\n",
       "0                    Block H, Bashundhara R-A, Dhaka  1600    3     3   \n",
       "1                           Farmgate, Tejgaon, Dhaka   900    2     2   \n",
       "2  Block B, Nobodoy Housing Society, Mohammadpur,...  1250    3     3   \n",
       "3                          Gulshan 1, Gulshan, Dhaka  2200    3     4   \n",
       "4                                   Baridhara, Dhaka  2200    3     3   \n",
       "\n",
       "     Price  Price_per_sqft  \n",
       "0  20000.0       12.500000  \n",
       "1  20000.0       22.222222  \n",
       "2  18000.0       14.400000  \n",
       "3  75000.0       34.090909  \n",
       "4  75000.0       34.090909  "
      ]
     },
     "execution_count": 322,
     "metadata": {},
     "output_type": "execute_result"
    }
   ],
   "source": [
    "df['Price_per_sqft']=df['Price']/df['Area']\n",
    "df.head()"
   ]
  },
  {
   "cell_type": "markdown",
   "id": "a80477f7",
   "metadata": {},
   "source": [
    "**Now we need to work on Location Column**"
   ]
  },
  {
   "cell_type": "markdown",
   "id": "8a7886f7",
   "metadata": {},
   "source": [
    "**At first we check if all location ended with dhaka or not**"
   ]
  },
  {
   "cell_type": "code",
   "execution_count": 323,
   "id": "6ebc1fc7",
   "metadata": {},
   "outputs": [
    {
     "data": {
      "text/plain": [
       "np.True_"
      ]
     },
     "execution_count": 323,
     "metadata": {},
     "output_type": "execute_result"
    }
   ],
   "source": [
    "df['Location'].str.strip().str.endswith('Dhaka').all()  ## if this return false that mean all column doesnt ended with Dhaka\n",
    "                                                        ## if return true then that means all column ended with Dhaka string"
   ]
  },
  {
   "cell_type": "markdown",
   "id": "b902402b",
   "metadata": {},
   "source": [
    "**It means all of our location column ended with Dhaka, So now we should remove it.**"
   ]
  },
  {
   "cell_type": "code",
   "execution_count": 324,
   "id": "df73289d",
   "metadata": {},
   "outputs": [],
   "source": [
    "df['Location']=df['Location'].str.strip().str.removesuffix(\", Dhaka\")"
   ]
  },
  {
   "cell_type": "code",
   "execution_count": 325,
   "id": "74a62947",
   "metadata": {},
   "outputs": [
    {
     "data": {
      "text/html": [
       "<div>\n",
       "<style scoped>\n",
       "    .dataframe tbody tr th:only-of-type {\n",
       "        vertical-align: middle;\n",
       "    }\n",
       "\n",
       "    .dataframe tbody tr th {\n",
       "        vertical-align: top;\n",
       "    }\n",
       "\n",
       "    .dataframe thead th {\n",
       "        text-align: right;\n",
       "    }\n",
       "</style>\n",
       "<table border=\"1\" class=\"dataframe\">\n",
       "  <thead>\n",
       "    <tr style=\"text-align: right;\">\n",
       "      <th></th>\n",
       "      <th>Location</th>\n",
       "      <th>Area</th>\n",
       "      <th>Bed</th>\n",
       "      <th>Bath</th>\n",
       "      <th>Price</th>\n",
       "      <th>Price_per_sqft</th>\n",
       "    </tr>\n",
       "  </thead>\n",
       "  <tbody>\n",
       "    <tr>\n",
       "      <th>0</th>\n",
       "      <td>Block H, Bashundhara R-A</td>\n",
       "      <td>1600</td>\n",
       "      <td>3</td>\n",
       "      <td>3</td>\n",
       "      <td>20000.0</td>\n",
       "      <td>12.500000</td>\n",
       "    </tr>\n",
       "    <tr>\n",
       "      <th>1</th>\n",
       "      <td>Farmgate, Tejgaon</td>\n",
       "      <td>900</td>\n",
       "      <td>2</td>\n",
       "      <td>2</td>\n",
       "      <td>20000.0</td>\n",
       "      <td>22.222222</td>\n",
       "    </tr>\n",
       "    <tr>\n",
       "      <th>2</th>\n",
       "      <td>Block B, Nobodoy Housing Society, Mohammadpur</td>\n",
       "      <td>1250</td>\n",
       "      <td>3</td>\n",
       "      <td>3</td>\n",
       "      <td>18000.0</td>\n",
       "      <td>14.400000</td>\n",
       "    </tr>\n",
       "    <tr>\n",
       "      <th>3</th>\n",
       "      <td>Gulshan 1, Gulshan</td>\n",
       "      <td>2200</td>\n",
       "      <td>3</td>\n",
       "      <td>4</td>\n",
       "      <td>75000.0</td>\n",
       "      <td>34.090909</td>\n",
       "    </tr>\n",
       "    <tr>\n",
       "      <th>4</th>\n",
       "      <td>Baridhara</td>\n",
       "      <td>2200</td>\n",
       "      <td>3</td>\n",
       "      <td>3</td>\n",
       "      <td>75000.0</td>\n",
       "      <td>34.090909</td>\n",
       "    </tr>\n",
       "  </tbody>\n",
       "</table>\n",
       "</div>"
      ],
      "text/plain": [
       "                                        Location  Area  Bed  Bath    Price  \\\n",
       "0                       Block H, Bashundhara R-A  1600    3     3  20000.0   \n",
       "1                              Farmgate, Tejgaon   900    2     2  20000.0   \n",
       "2  Block B, Nobodoy Housing Society, Mohammadpur  1250    3     3  18000.0   \n",
       "3                             Gulshan 1, Gulshan  2200    3     4  75000.0   \n",
       "4                                      Baridhara  2200    3     3  75000.0   \n",
       "\n",
       "   Price_per_sqft  \n",
       "0       12.500000  \n",
       "1       22.222222  \n",
       "2       14.400000  \n",
       "3       34.090909  \n",
       "4       34.090909  "
      ]
     },
     "execution_count": 325,
     "metadata": {},
     "output_type": "execute_result"
    }
   ],
   "source": [
    "df.head()"
   ]
  },
  {
   "cell_type": "markdown",
   "id": "79b1137c",
   "metadata": {},
   "source": [
    "**Before further going now we will check what is the condition in our current dataframe**"
   ]
  },
  {
   "cell_type": "code",
   "execution_count": 326,
   "id": "cd133be5",
   "metadata": {},
   "outputs": [
    {
     "data": {
      "text/plain": [
       "np.int64(0)"
      ]
     },
     "execution_count": 326,
     "metadata": {},
     "output_type": "execute_result"
    }
   ],
   "source": [
    "df.Area.isnull().sum()"
   ]
  },
  {
   "cell_type": "code",
   "execution_count": 327,
   "id": "7af90aba",
   "metadata": {},
   "outputs": [
    {
     "data": {
      "text/plain": [
       "np.int64(0)"
      ]
     },
     "execution_count": 327,
     "metadata": {},
     "output_type": "execute_result"
    }
   ],
   "source": [
    "df.Bed.isnull().sum()"
   ]
  },
  {
   "cell_type": "code",
   "execution_count": 328,
   "id": "9b787ef3",
   "metadata": {},
   "outputs": [
    {
     "data": {
      "text/plain": [
       "np.int64(0)"
      ]
     },
     "execution_count": 328,
     "metadata": {},
     "output_type": "execute_result"
    }
   ],
   "source": [
    "df.Bath.isnull().sum()"
   ]
  },
  {
   "cell_type": "code",
   "execution_count": 329,
   "id": "76c4ce8c",
   "metadata": {},
   "outputs": [
    {
     "data": {
      "text/plain": [
       "np.int64(0)"
      ]
     },
     "execution_count": 329,
     "metadata": {},
     "output_type": "execute_result"
    }
   ],
   "source": [
    "df.Price.isnull().sum()"
   ]
  },
  {
   "cell_type": "code",
   "execution_count": 330,
   "id": "9c3f9d62",
   "metadata": {},
   "outputs": [
    {
     "data": {
      "text/plain": [
       "np.int64(0)"
      ]
     },
     "execution_count": 330,
     "metadata": {},
     "output_type": "execute_result"
    }
   ],
   "source": [
    "df.Price_per_sqft.isna().sum()"
   ]
  },
  {
   "cell_type": "markdown",
   "id": "adce4d0b",
   "metadata": {},
   "source": [
    "**So all of these column has values, so now we move on next step to work on Location column to make it more usable**"
   ]
  },
  {
   "cell_type": "markdown",
   "id": "105d09d9",
   "metadata": {},
   "source": [
    "**So now we can look towards bigger picture like a location called 'Bashundhara R-A' not very specific like 'Block H, Bashundhara R-A'. Beacuse the rent price is almost similar.**"
   ]
  },
  {
   "cell_type": "code",
   "execution_count": 331,
   "id": "5e6f5ec8",
   "metadata": {},
   "outputs": [],
   "source": [
    "df['Location']=df['Location'].apply(lambda x:x.split(',')[-1].strip())"
   ]
  },
  {
   "cell_type": "code",
   "execution_count": 332,
   "id": "fb6fb5c6",
   "metadata": {},
   "outputs": [
    {
     "data": {
      "text/html": [
       "<div>\n",
       "<style scoped>\n",
       "    .dataframe tbody tr th:only-of-type {\n",
       "        vertical-align: middle;\n",
       "    }\n",
       "\n",
       "    .dataframe tbody tr th {\n",
       "        vertical-align: top;\n",
       "    }\n",
       "\n",
       "    .dataframe thead th {\n",
       "        text-align: right;\n",
       "    }\n",
       "</style>\n",
       "<table border=\"1\" class=\"dataframe\">\n",
       "  <thead>\n",
       "    <tr style=\"text-align: right;\">\n",
       "      <th></th>\n",
       "      <th>Location</th>\n",
       "      <th>Area</th>\n",
       "      <th>Bed</th>\n",
       "      <th>Bath</th>\n",
       "      <th>Price</th>\n",
       "      <th>Price_per_sqft</th>\n",
       "    </tr>\n",
       "  </thead>\n",
       "  <tbody>\n",
       "    <tr>\n",
       "      <th>0</th>\n",
       "      <td>Bashundhara R-A</td>\n",
       "      <td>1600</td>\n",
       "      <td>3</td>\n",
       "      <td>3</td>\n",
       "      <td>20000.0</td>\n",
       "      <td>12.500000</td>\n",
       "    </tr>\n",
       "    <tr>\n",
       "      <th>1</th>\n",
       "      <td>Tejgaon</td>\n",
       "      <td>900</td>\n",
       "      <td>2</td>\n",
       "      <td>2</td>\n",
       "      <td>20000.0</td>\n",
       "      <td>22.222222</td>\n",
       "    </tr>\n",
       "    <tr>\n",
       "      <th>2</th>\n",
       "      <td>Mohammadpur</td>\n",
       "      <td>1250</td>\n",
       "      <td>3</td>\n",
       "      <td>3</td>\n",
       "      <td>18000.0</td>\n",
       "      <td>14.400000</td>\n",
       "    </tr>\n",
       "    <tr>\n",
       "      <th>3</th>\n",
       "      <td>Gulshan</td>\n",
       "      <td>2200</td>\n",
       "      <td>3</td>\n",
       "      <td>4</td>\n",
       "      <td>75000.0</td>\n",
       "      <td>34.090909</td>\n",
       "    </tr>\n",
       "    <tr>\n",
       "      <th>4</th>\n",
       "      <td>Baridhara</td>\n",
       "      <td>2200</td>\n",
       "      <td>3</td>\n",
       "      <td>3</td>\n",
       "      <td>75000.0</td>\n",
       "      <td>34.090909</td>\n",
       "    </tr>\n",
       "  </tbody>\n",
       "</table>\n",
       "</div>"
      ],
      "text/plain": [
       "          Location  Area  Bed  Bath    Price  Price_per_sqft\n",
       "0  Bashundhara R-A  1600    3     3  20000.0       12.500000\n",
       "1          Tejgaon   900    2     2  20000.0       22.222222\n",
       "2      Mohammadpur  1250    3     3  18000.0       14.400000\n",
       "3          Gulshan  2200    3     4  75000.0       34.090909\n",
       "4        Baridhara  2200    3     3  75000.0       34.090909"
      ]
     },
     "execution_count": 332,
     "metadata": {},
     "output_type": "execute_result"
    }
   ],
   "source": [
    "df.head()"
   ]
  },
  {
   "cell_type": "markdown",
   "id": "927d2648",
   "metadata": {},
   "source": [
    "**How many unique values are there in a column and what is that?**"
   ]
  },
  {
   "cell_type": "code",
   "execution_count": 333,
   "id": "bd103002",
   "metadata": {},
   "outputs": [
    {
     "data": {
      "text/plain": [
       "array(['Bashundhara R-A', 'Tejgaon', 'Mohammadpur', 'Gulshan',\n",
       "       'Baridhara', 'Hazaribag', 'Mirpur', 'Nikunja', 'Uttara',\n",
       "       'Khilgaon', 'Ibrahimpur', 'Badda', 'Adabor', 'Jatra Bari',\n",
       "       'Malibagh', 'Banani', 'Kakrail', 'Dhanmondi', 'Maghbazar',\n",
       "       'Kalachandpur', 'Niketan', 'Eskaton', 'Banasree', 'Bashabo',\n",
       "       'Baridhara DOHS', 'Aftab Nagar', 'Lalmatia', 'Dakshin Khan',\n",
       "       'Mohakhali DOHS', 'Sutrapur', 'Hatirpool', 'Agargaon', 'Rampura',\n",
       "       'Cantonment', 'Shahbagh', 'Khilkhet', 'Motijheel', 'Shantinagar',\n",
       "       'Shegunbagicha', 'Kathalbagan', 'Shyamoli', 'Kalabagan', 'Demra',\n",
       "       'Kuril', 'Mohakhali', 'Lalbagh', 'New Market', 'Kafrul',\n",
       "       'Kachukhet', 'Turag', 'Dhaka', 'Nadda', 'Shyampur', 'Maniknagar',\n",
       "       'Banani DOHS', 'Shiddheswari', 'Bangshal', 'Paribagh',\n",
       "       'Joar Sahara', 'Mugdapara', 'North Shahjahanpur', 'Kotwali',\n",
       "       'Shahjahanpur', 'Uttar Khan', 'Taltola', 'Sadarghat',\n",
       "       'Banglamotors', 'Zafrabad', 'Keraniganj'], dtype=object)"
      ]
     },
     "execution_count": 333,
     "metadata": {},
     "output_type": "execute_result"
    }
   ],
   "source": [
    "df['Location'].unique()"
   ]
  },
  {
   "cell_type": "code",
   "execution_count": 334,
   "id": "aa24da1c",
   "metadata": {},
   "outputs": [
    {
     "data": {
      "text/plain": [
       "69"
      ]
     },
     "execution_count": 334,
     "metadata": {},
     "output_type": "execute_result"
    }
   ],
   "source": [
    "df['Location'].nunique()"
   ]
  },
  {
   "cell_type": "code",
   "execution_count": 335,
   "id": "11bc568f",
   "metadata": {},
   "outputs": [
    {
     "data": {
      "text/plain": [
       "Location\n",
       "Mirpur             8451\n",
       "Mohammadpur        3612\n",
       "Uttara             2070\n",
       "Badda              1831\n",
       "Bashundhara R-A    1397\n",
       "                   ... \n",
       "Demra                 7\n",
       "Zafrabad              7\n",
       "Keraniganj            3\n",
       "Banglamotors          2\n",
       "Sadarghat             2\n",
       "Name: count, Length: 69, dtype: int64"
      ]
     },
     "execution_count": 335,
     "metadata": {},
     "output_type": "execute_result"
    }
   ],
   "source": [
    "df['Location'].value_counts()"
   ]
  },
  {
   "cell_type": "code",
   "execution_count": 336,
   "id": "5882dbde",
   "metadata": {},
   "outputs": [
    {
     "data": {
      "text/plain": [
       "count    28800.000000\n",
       "mean        19.014673\n",
       "std          6.551902\n",
       "min          6.500000\n",
       "25%         15.384615\n",
       "50%         18.055556\n",
       "75%         21.052632\n",
       "max        228.571429\n",
       "Name: Price_per_sqft, dtype: float64"
      ]
     },
     "execution_count": 336,
     "metadata": {},
     "output_type": "execute_result"
    }
   ],
   "source": [
    "df['Price_per_sqft'].describe()"
   ]
  },
  {
   "cell_type": "markdown",
   "id": "53278647",
   "metadata": {},
   "source": [
    "**We keep 10 to 40 as a threshold for Price_per_sqft column**"
   ]
  },
  {
   "cell_type": "code",
   "execution_count": 337,
   "id": "ca3da77d",
   "metadata": {},
   "outputs": [
    {
     "data": {
      "text/plain": [
       "(27350, 6)"
      ]
     },
     "execution_count": 337,
     "metadata": {},
     "output_type": "execute_result"
    }
   ],
   "source": [
    "df=df[df['Price_per_sqft'].between(12,40)]\n",
    "df.shape"
   ]
  },
  {
   "cell_type": "markdown",
   "id": "17353d2e",
   "metadata": {},
   "source": [
    "**At first we consider Bed column, lets see which rows and data seems logical and which one should be removed**"
   ]
  },
  {
   "cell_type": "code",
   "execution_count": 338,
   "id": "c89a15b3",
   "metadata": {},
   "outputs": [
    {
     "data": {
      "text/plain": [
       "count    27350.000000\n",
       "mean         2.481536\n",
       "std          0.593214\n",
       "min          1.000000\n",
       "25%          2.000000\n",
       "50%          2.000000\n",
       "75%          3.000000\n",
       "max          6.000000\n",
       "Name: Bed, dtype: float64"
      ]
     },
     "execution_count": 338,
     "metadata": {},
     "output_type": "execute_result"
    }
   ],
   "source": [
    "df['Bed'].describe()"
   ]
  },
  {
   "cell_type": "code",
   "execution_count": 339,
   "id": "f1cad22d",
   "metadata": {},
   "outputs": [
    {
     "data": {
      "text/plain": [
       "array([3, 2, 4, 1, 5, 6])"
      ]
     },
     "execution_count": 339,
     "metadata": {},
     "output_type": "execute_result"
    }
   ],
   "source": [
    "df['Bed'].unique()"
   ]
  },
  {
   "cell_type": "markdown",
   "id": "794a30a5",
   "metadata": {},
   "source": [
    "**6 bedroom seems logical for large flat or apartment. So we will move further**"
   ]
  },
  {
   "cell_type": "markdown",
   "id": "d71be090",
   "metadata": {},
   "source": [
    "**Now we analyze Bath column**"
   ]
  },
  {
   "cell_type": "code",
   "execution_count": 340,
   "id": "04c83db8",
   "metadata": {},
   "outputs": [
    {
     "data": {
      "text/plain": [
       "array([3, 2, 4, 5, 1, 6])"
      ]
     },
     "execution_count": 340,
     "metadata": {},
     "output_type": "execute_result"
    }
   ],
   "source": [
    "df['Bath'].unique()"
   ]
  },
  {
   "cell_type": "markdown",
   "id": "012ea87d",
   "metadata": {},
   "source": [
    "**We can see that some column has 5 to 8 bathroom while max bedroom is 6.So it is irrelevant. We should remove those rows**"
   ]
  },
  {
   "cell_type": "code",
   "execution_count": 341,
   "id": "86b72ebc",
   "metadata": {},
   "outputs": [
    {
     "data": {
      "text/plain": [
       "array([3, 2, 4, 5, 1])"
      ]
     },
     "execution_count": 341,
     "metadata": {},
     "output_type": "execute_result"
    }
   ],
   "source": [
    "df=df[df['Bath']<=5]\n",
    "df['Bath'].unique()"
   ]
  },
  {
   "cell_type": "code",
   "execution_count": 342,
   "id": "ad83bc52",
   "metadata": {},
   "outputs": [
    {
     "data": {
      "text/plain": [
       "count     27345.000000\n",
       "mean      19462.262205\n",
       "std       11276.204027\n",
       "min        5000.000000\n",
       "25%       13000.000000\n",
       "50%       16000.000000\n",
       "75%       22000.000000\n",
       "max      170000.000000\n",
       "Name: Price, dtype: float64"
      ]
     },
     "execution_count": 342,
     "metadata": {},
     "output_type": "execute_result"
    }
   ],
   "source": [
    "df['Price'].describe()"
   ]
  },
  {
   "cell_type": "code",
   "execution_count": 343,
   "id": "22f43d53",
   "metadata": {},
   "outputs": [
    {
     "data": {
      "text/plain": [
       "count    26165.000000\n",
       "mean     17686.965794\n",
       "std       6779.094465\n",
       "min       5000.000000\n",
       "25%      13000.000000\n",
       "50%      16000.000000\n",
       "75%      20000.000000\n",
       "max      40000.000000\n",
       "Name: Price, dtype: float64"
      ]
     },
     "execution_count": 343,
     "metadata": {},
     "output_type": "execute_result"
    }
   ],
   "source": [
    "q95=df['Price'].quantile(0.95)\n",
    "df=df[df['Price']<=q95]\n",
    "df['Price'].describe()"
   ]
  },
  {
   "cell_type": "code",
   "execution_count": 344,
   "id": "f1b2a3e3",
   "metadata": {},
   "outputs": [
    {
     "data": {
      "text/html": [
       "<div>\n",
       "<style scoped>\n",
       "    .dataframe tbody tr th:only-of-type {\n",
       "        vertical-align: middle;\n",
       "    }\n",
       "\n",
       "    .dataframe tbody tr th {\n",
       "        vertical-align: top;\n",
       "    }\n",
       "\n",
       "    .dataframe thead th {\n",
       "        text-align: right;\n",
       "    }\n",
       "</style>\n",
       "<table border=\"1\" class=\"dataframe\">\n",
       "  <thead>\n",
       "    <tr style=\"text-align: right;\">\n",
       "      <th></th>\n",
       "      <th>Location</th>\n",
       "      <th>Area</th>\n",
       "      <th>Bed</th>\n",
       "      <th>Bath</th>\n",
       "      <th>Price</th>\n",
       "      <th>Price_per_sqft</th>\n",
       "    </tr>\n",
       "  </thead>\n",
       "  <tbody>\n",
       "    <tr>\n",
       "      <th>194</th>\n",
       "      <td>Adabor</td>\n",
       "      <td>400</td>\n",
       "      <td>1</td>\n",
       "      <td>1</td>\n",
       "      <td>5000.0</td>\n",
       "      <td>12.500000</td>\n",
       "    </tr>\n",
       "    <tr>\n",
       "      <th>330</th>\n",
       "      <td>Mirpur</td>\n",
       "      <td>400</td>\n",
       "      <td>1</td>\n",
       "      <td>1</td>\n",
       "      <td>6500.0</td>\n",
       "      <td>16.250000</td>\n",
       "    </tr>\n",
       "    <tr>\n",
       "      <th>1204</th>\n",
       "      <td>Dakshin Khan</td>\n",
       "      <td>450</td>\n",
       "      <td>2</td>\n",
       "      <td>1</td>\n",
       "      <td>6300.0</td>\n",
       "      <td>14.000000</td>\n",
       "    </tr>\n",
       "    <tr>\n",
       "      <th>1577</th>\n",
       "      <td>Mirpur</td>\n",
       "      <td>500</td>\n",
       "      <td>1</td>\n",
       "      <td>1</td>\n",
       "      <td>6500.0</td>\n",
       "      <td>13.000000</td>\n",
       "    </tr>\n",
       "    <tr>\n",
       "      <th>1696</th>\n",
       "      <td>Dakshin Khan</td>\n",
       "      <td>400</td>\n",
       "      <td>2</td>\n",
       "      <td>1</td>\n",
       "      <td>6300.0</td>\n",
       "      <td>15.750000</td>\n",
       "    </tr>\n",
       "    <tr>\n",
       "      <th>1714</th>\n",
       "      <td>Mirpur</td>\n",
       "      <td>300</td>\n",
       "      <td>1</td>\n",
       "      <td>1</td>\n",
       "      <td>5500.0</td>\n",
       "      <td>18.333333</td>\n",
       "    </tr>\n",
       "  </tbody>\n",
       "</table>\n",
       "</div>"
      ],
      "text/plain": [
       "          Location  Area  Bed  Bath   Price  Price_per_sqft\n",
       "194         Adabor   400    1     1  5000.0       12.500000\n",
       "330         Mirpur   400    1     1  6500.0       16.250000\n",
       "1204  Dakshin Khan   450    2     1  6300.0       14.000000\n",
       "1577        Mirpur   500    1     1  6500.0       13.000000\n",
       "1696  Dakshin Khan   400    2     1  6300.0       15.750000\n",
       "1714        Mirpur   300    1     1  5500.0       18.333333"
      ]
     },
     "execution_count": 344,
     "metadata": {},
     "output_type": "execute_result"
    }
   ],
   "source": [
    "df_under_5000=df[df['Price']<7000]\n",
    "df_under_5000"
   ]
  },
  {
   "cell_type": "markdown",
   "id": "39a8d8ad",
   "metadata": {},
   "source": [
    "**All data for price column seems logical in Dhaka context**"
   ]
  },
  {
   "cell_type": "code",
   "execution_count": 345,
   "id": "9dcc9832",
   "metadata": {},
   "outputs": [
    {
     "data": {
      "text/plain": [
       "(26165, 6)"
      ]
     },
     "execution_count": 345,
     "metadata": {},
     "output_type": "execute_result"
    }
   ],
   "source": [
    "df.shape"
   ]
  },
  {
   "cell_type": "markdown",
   "id": "efa1f54d",
   "metadata": {},
   "source": [
    "## Visualize some data"
   ]
  },
  {
   "cell_type": "markdown",
   "id": "4e6648a5",
   "metadata": {},
   "source": [
    "**Visualize for House Price vs Area**"
   ]
  },
  {
   "cell_type": "code",
   "execution_count": 346,
   "id": "e497693a",
   "metadata": {},
   "outputs": [
    {
     "data": {
      "image/png": "[encoded data removed]",
      "text/plain": [
       "<Figure size 500x300 with 1 Axes>"
      ]
     },
     "metadata": {},
     "output_type": "display_data"
    }
   ],
   "source": [
    "plt.figure(figsize=(5,3))\n",
    "plt.scatter(df['Area'], df['Price'], alpha=0.6, color='blue')\n",
    "\n",
    "# Labels and title\n",
    "plt.xlabel('Area (sqft)')\n",
    "plt.ylabel('Price')\n",
    "plt.title('House Price vs Area')\n",
    "\n",
    "# Optional: grid\n",
    "plt.grid(True)\n",
    "\n",
    "# Show plot\n",
    "plt.show()"
   ]
  },
  {
   "cell_type": "code",
   "execution_count": 347,
   "id": "9806e740",
   "metadata": {},
   "outputs": [
    {
     "data": {
      "image/png": "[encoded data removed]",
      "text/plain": [
       "<Figure size 500x300 with 1 Axes>"
      ]
     },
     "metadata": {},
     "output_type": "display_data"
    }
   ],
   "source": [
    "plt.figure(figsize=(5,3))\n",
    "plt.scatter(df['Price'], df['Bath'], alpha=0.6, color='blue')\n",
    "\n",
    "# Labels and title\n",
    "plt.xlabel('Bedroom')\n",
    "plt.ylabel('Price(TK)')\n",
    "plt.title('House Price vs Area')\n",
    "\n",
    "# Optional: grid\n",
    "plt.grid(True)\n",
    "\n",
    "# Show plot\n",
    "plt.show()"
   ]
  },
  {
   "cell_type": "markdown",
   "id": "b5f35531",
   "metadata": {},
   "source": [
    "**Visualize for bathroom data**"
   ]
  },
  {
   "cell_type": "code",
   "execution_count": 348,
   "id": "3aafeabc",
   "metadata": {},
   "outputs": [
    {
     "data": {
      "text/plain": [
       "Text(0, 0.5, 'count')"
      ]
     },
     "execution_count": 348,
     "metadata": {},
     "output_type": "execute_result"
    },
    {
     "data": {
      "image/png": "[encoded data removed]",
      "text/plain": [
       "<Figure size 640x480 with 1 Axes>"
      ]
     },
     "metadata": {},
     "output_type": "display_data"
    }
   ],
   "source": [
    "plt.hist(df.Bath,rwidth=0.8)\n",
    "plt.xlabel(\"Number of bathroom\")\n",
    "plt.ylabel(\"count\")"
   ]
  },
  {
   "cell_type": "markdown",
   "id": "32f19919",
   "metadata": {},
   "source": [
    "**Visualize for bedroom data**"
   ]
  },
  {
   "cell_type": "code",
   "execution_count": 349,
   "id": "2af44bd3",
   "metadata": {},
   "outputs": [
    {
     "data": {
      "text/plain": [
       "Text(0, 0.5, 'count')"
      ]
     },
     "execution_count": 349,
     "metadata": {},
     "output_type": "execute_result"
    },
    {
     "data": {
      "image/png": "[encoded data removed]",
      "text/plain": [
       "<Figure size 640x480 with 1 Axes>"
      ]
     },
     "metadata": {},
     "output_type": "display_data"
    }
   ],
   "source": [
    "plt.hist(df.Bed,rwidth=0.8)\n",
    "plt.xlabel(\"Number of bedroom\")\n",
    "plt.ylabel(\"count\")"
   ]
  },
  {
   "cell_type": "markdown",
   "id": "f562e0db",
   "metadata": {},
   "source": [
    "## **One hot encoding**"
   ]
  },
  {
   "cell_type": "code",
   "execution_count": 350,
   "id": "0d5f25dc",
   "metadata": {},
   "outputs": [
    {
     "data": {
      "text/html": [
       "<div>\n",
       "<style scoped>\n",
       "    .dataframe tbody tr th:only-of-type {\n",
       "        vertical-align: middle;\n",
       "    }\n",
       "\n",
       "    .dataframe tbody tr th {\n",
       "        vertical-align: top;\n",
       "    }\n",
       "\n",
       "    .dataframe thead th {\n",
       "        text-align: right;\n",
       "    }\n",
       "</style>\n",
       "<table border=\"1\" class=\"dataframe\">\n",
       "  <thead>\n",
       "    <tr style=\"text-align: right;\">\n",
       "      <th></th>\n",
       "      <th>Area</th>\n",
       "      <th>Bed</th>\n",
       "      <th>Bath</th>\n",
       "      <th>Price</th>\n",
       "      <th>Price_per_sqft</th>\n",
       "      <th>Location_Adabor</th>\n",
       "      <th>Location_Aftab Nagar</th>\n",
       "      <th>Location_Agargaon</th>\n",
       "      <th>Location_Badda</th>\n",
       "      <th>Location_Banani</th>\n",
       "      <th>...</th>\n",
       "      <th>Location_Shiddheswari</th>\n",
       "      <th>Location_Shyamoli</th>\n",
       "      <th>Location_Shyampur</th>\n",
       "      <th>Location_Sutrapur</th>\n",
       "      <th>Location_Taltola</th>\n",
       "      <th>Location_Tejgaon</th>\n",
       "      <th>Location_Turag</th>\n",
       "      <th>Location_Uttar Khan</th>\n",
       "      <th>Location_Uttara</th>\n",
       "      <th>Location_Zafrabad</th>\n",
       "    </tr>\n",
       "  </thead>\n",
       "  <tbody>\n",
       "    <tr>\n",
       "      <th>0</th>\n",
       "      <td>1600</td>\n",
       "      <td>3</td>\n",
       "      <td>3</td>\n",
       "      <td>20000.0</td>\n",
       "      <td>12.500000</td>\n",
       "      <td>0.0</td>\n",
       "      <td>0.0</td>\n",
       "      <td>0.0</td>\n",
       "      <td>0.0</td>\n",
       "      <td>0.0</td>\n",
       "      <td>...</td>\n",
       "      <td>0.0</td>\n",
       "      <td>0.0</td>\n",
       "      <td>0.0</td>\n",
       "      <td>0.0</td>\n",
       "      <td>0.0</td>\n",
       "      <td>0.0</td>\n",
       "      <td>0.0</td>\n",
       "      <td>0.0</td>\n",
       "      <td>0.0</td>\n",
       "      <td>0.0</td>\n",
       "    </tr>\n",
       "    <tr>\n",
       "      <th>1</th>\n",
       "      <td>900</td>\n",
       "      <td>2</td>\n",
       "      <td>2</td>\n",
       "      <td>20000.0</td>\n",
       "      <td>22.222222</td>\n",
       "      <td>0.0</td>\n",
       "      <td>0.0</td>\n",
       "      <td>0.0</td>\n",
       "      <td>0.0</td>\n",
       "      <td>0.0</td>\n",
       "      <td>...</td>\n",
       "      <td>0.0</td>\n",
       "      <td>0.0</td>\n",
       "      <td>0.0</td>\n",
       "      <td>0.0</td>\n",
       "      <td>0.0</td>\n",
       "      <td>1.0</td>\n",
       "      <td>0.0</td>\n",
       "      <td>0.0</td>\n",
       "      <td>0.0</td>\n",
       "      <td>0.0</td>\n",
       "    </tr>\n",
       "    <tr>\n",
       "      <th>2</th>\n",
       "      <td>1250</td>\n",
       "      <td>3</td>\n",
       "      <td>3</td>\n",
       "      <td>18000.0</td>\n",
       "      <td>14.400000</td>\n",
       "      <td>0.0</td>\n",
       "      <td>0.0</td>\n",
       "      <td>0.0</td>\n",
       "      <td>0.0</td>\n",
       "      <td>0.0</td>\n",
       "      <td>...</td>\n",
       "      <td>0.0</td>\n",
       "      <td>0.0</td>\n",
       "      <td>0.0</td>\n",
       "      <td>0.0</td>\n",
       "      <td>0.0</td>\n",
       "      <td>0.0</td>\n",
       "      <td>0.0</td>\n",
       "      <td>0.0</td>\n",
       "      <td>0.0</td>\n",
       "      <td>0.0</td>\n",
       "    </tr>\n",
       "    <tr>\n",
       "      <th>7</th>\n",
       "      <td>950</td>\n",
       "      <td>2</td>\n",
       "      <td>2</td>\n",
       "      <td>14000.0</td>\n",
       "      <td>14.736842</td>\n",
       "      <td>0.0</td>\n",
       "      <td>0.0</td>\n",
       "      <td>0.0</td>\n",
       "      <td>0.0</td>\n",
       "      <td>0.0</td>\n",
       "      <td>...</td>\n",
       "      <td>0.0</td>\n",
       "      <td>0.0</td>\n",
       "      <td>0.0</td>\n",
       "      <td>0.0</td>\n",
       "      <td>0.0</td>\n",
       "      <td>0.0</td>\n",
       "      <td>0.0</td>\n",
       "      <td>0.0</td>\n",
       "      <td>0.0</td>\n",
       "      <td>0.0</td>\n",
       "    </tr>\n",
       "    <tr>\n",
       "      <th>8</th>\n",
       "      <td>1600</td>\n",
       "      <td>3</td>\n",
       "      <td>3</td>\n",
       "      <td>28000.0</td>\n",
       "      <td>17.500000</td>\n",
       "      <td>0.0</td>\n",
       "      <td>0.0</td>\n",
       "      <td>0.0</td>\n",
       "      <td>0.0</td>\n",
       "      <td>0.0</td>\n",
       "      <td>...</td>\n",
       "      <td>0.0</td>\n",
       "      <td>0.0</td>\n",
       "      <td>0.0</td>\n",
       "      <td>0.0</td>\n",
       "      <td>0.0</td>\n",
       "      <td>0.0</td>\n",
       "      <td>0.0</td>\n",
       "      <td>0.0</td>\n",
       "      <td>0.0</td>\n",
       "      <td>0.0</td>\n",
       "    </tr>\n",
       "  </tbody>\n",
       "</table>\n",
       "<p>5 rows × 73 columns</p>\n",
       "</div>"
      ],
      "text/plain": [
       "   Area  Bed  Bath    Price  Price_per_sqft  Location_Adabor  \\\n",
       "0  1600    3     3  20000.0       12.500000              0.0   \n",
       "1   900    2     2  20000.0       22.222222              0.0   \n",
       "2  1250    3     3  18000.0       14.400000              0.0   \n",
       "7   950    2     2  14000.0       14.736842              0.0   \n",
       "8  1600    3     3  28000.0       17.500000              0.0   \n",
       "\n",
       "   Location_Aftab Nagar  Location_Agargaon  Location_Badda  Location_Banani  \\\n",
       "0                   0.0                0.0             0.0              0.0   \n",
       "1                   0.0                0.0             0.0              0.0   \n",
       "2                   0.0                0.0             0.0              0.0   \n",
       "7                   0.0                0.0             0.0              0.0   \n",
       "8                   0.0                0.0             0.0              0.0   \n",
       "\n",
       "   ...  Location_Shiddheswari  Location_Shyamoli  Location_Shyampur  \\\n",
       "0  ...                    0.0                0.0                0.0   \n",
       "1  ...                    0.0                0.0                0.0   \n",
       "2  ...                    0.0                0.0                0.0   \n",
       "7  ...                    0.0                0.0                0.0   \n",
       "8  ...                    0.0                0.0                0.0   \n",
       "\n",
       "   Location_Sutrapur  Location_Taltola  Location_Tejgaon  Location_Turag  \\\n",
       "0                0.0               0.0               0.0             0.0   \n",
       "1                0.0               0.0               1.0             0.0   \n",
       "2                0.0               0.0               0.0             0.0   \n",
       "7                0.0               0.0               0.0             0.0   \n",
       "8                0.0               0.0               0.0             0.0   \n",
       "\n",
       "   Location_Uttar Khan  Location_Uttara  Location_Zafrabad  \n",
       "0                  0.0              0.0                0.0  \n",
       "1                  0.0              0.0                0.0  \n",
       "2                  0.0              0.0                0.0  \n",
       "7                  0.0              0.0                0.0  \n",
       "8                  0.0              0.0                0.0  \n",
       "\n",
       "[5 rows x 73 columns]"
      ]
     },
     "execution_count": 350,
     "metadata": {},
     "output_type": "execute_result"
    }
   ],
   "source": [
    "from sklearn.preprocessing import OneHotEncoder\n",
    "oho=OneHotEncoder(handle_unknown='ignore')\n",
    "\n",
    "location_encoded=oho.fit_transform(df[['Location']]).toarray()\n",
    "\n",
    "df_location=pd.DataFrame(location_encoded, columns=oho.get_feature_names_out(['Location']),  index=df.index )\n",
    "\n",
    "df_encoded=pd.concat([df.drop(['Location'],axis='columns'), df_location],axis='columns')\n",
    "df_encoded.head()"
   ]
  },
  {
   "cell_type": "code",
   "execution_count": 351,
   "id": "1782c83c",
   "metadata": {},
   "outputs": [
    {
     "data": {
      "text/plain": [
       "Area                   0\n",
       "Bed                    0\n",
       "Bath                   0\n",
       "Price                  0\n",
       "Price_per_sqft         0\n",
       "                      ..\n",
       "Location_Tejgaon       0\n",
       "Location_Turag         0\n",
       "Location_Uttar Khan    0\n",
       "Location_Uttara        0\n",
       "Location_Zafrabad      0\n",
       "Length: 73, dtype: int64"
      ]
     },
     "execution_count": 351,
     "metadata": {},
     "output_type": "execute_result"
    }
   ],
   "source": [
    "df_encoded.isnull().sum()"
   ]
  },
  {
   "cell_type": "code",
   "execution_count": 352,
   "id": "19aa8f6c",
   "metadata": {},
   "outputs": [
    {
     "name": "stdout",
     "output_type": "stream",
     "text": [
      "<class 'pandas.core.frame.DataFrame'>\n",
      "Index: 26165 entries, 0 to 28799\n",
      "Data columns (total 73 columns):\n",
      " #   Column                       Non-Null Count  Dtype  \n",
      "---  ------                       --------------  -----  \n",
      " 0   Area                         26165 non-null  int64  \n",
      " 1   Bed                          26165 non-null  int64  \n",
      " 2   Bath                         26165 non-null  int64  \n",
      " 3   Price                        26165 non-null  float64\n",
      " 4   Price_per_sqft               26165 non-null  float64\n",
      " 5   Location_Adabor              26165 non-null  float64\n",
      " 6   Location_Aftab Nagar         26165 non-null  float64\n",
      " 7   Location_Agargaon            26165 non-null  float64\n",
      " 8   Location_Badda               26165 non-null  float64\n",
      " 9   Location_Banani              26165 non-null  float64\n",
      " 10  Location_Banasree            26165 non-null  float64\n",
      " 11  Location_Banglamotors        26165 non-null  float64\n",
      " 12  Location_Bangshal            26165 non-null  float64\n",
      " 13  Location_Baridhara           26165 non-null  float64\n",
      " 14  Location_Baridhara DOHS      26165 non-null  float64\n",
      " 15  Location_Bashabo             26165 non-null  float64\n",
      " 16  Location_Bashundhara R-A     26165 non-null  float64\n",
      " 17  Location_Cantonment          26165 non-null  float64\n",
      " 18  Location_Dakshin Khan        26165 non-null  float64\n",
      " 19  Location_Demra               26165 non-null  float64\n",
      " 20  Location_Dhaka               26165 non-null  float64\n",
      " 21  Location_Dhanmondi           26165 non-null  float64\n",
      " 22  Location_Eskaton             26165 non-null  float64\n",
      " 23  Location_Gulshan             26165 non-null  float64\n",
      " 24  Location_Hatirpool           26165 non-null  float64\n",
      " 25  Location_Hazaribag           26165 non-null  float64\n",
      " 26  Location_Ibrahimpur          26165 non-null  float64\n",
      " 27  Location_Jatra Bari          26165 non-null  float64\n",
      " 28  Location_Joar Sahara         26165 non-null  float64\n",
      " 29  Location_Kachukhet           26165 non-null  float64\n",
      " 30  Location_Kafrul              26165 non-null  float64\n",
      " 31  Location_Kakrail             26165 non-null  float64\n",
      " 32  Location_Kalabagan           26165 non-null  float64\n",
      " 33  Location_Kalachandpur        26165 non-null  float64\n",
      " 34  Location_Kathalbagan         26165 non-null  float64\n",
      " 35  Location_Keraniganj          26165 non-null  float64\n",
      " 36  Location_Khilgaon            26165 non-null  float64\n",
      " 37  Location_Khilkhet            26165 non-null  float64\n",
      " 38  Location_Kotwali             26165 non-null  float64\n",
      " 39  Location_Kuril               26165 non-null  float64\n",
      " 40  Location_Lalbagh             26165 non-null  float64\n",
      " 41  Location_Lalmatia            26165 non-null  float64\n",
      " 42  Location_Maghbazar           26165 non-null  float64\n",
      " 43  Location_Malibagh            26165 non-null  float64\n",
      " 44  Location_Maniknagar          26165 non-null  float64\n",
      " 45  Location_Mirpur              26165 non-null  float64\n",
      " 46  Location_Mohakhali           26165 non-null  float64\n",
      " 47  Location_Mohakhali DOHS      26165 non-null  float64\n",
      " 48  Location_Mohammadpur         26165 non-null  float64\n",
      " 49  Location_Motijheel           26165 non-null  float64\n",
      " 50  Location_Mugdapara           26165 non-null  float64\n",
      " 51  Location_Nadda               26165 non-null  float64\n",
      " 52  Location_New Market          26165 non-null  float64\n",
      " 53  Location_Niketan             26165 non-null  float64\n",
      " 54  Location_Nikunja             26165 non-null  float64\n",
      " 55  Location_North Shahjahanpur  26165 non-null  float64\n",
      " 56  Location_Paribagh            26165 non-null  float64\n",
      " 57  Location_Rampura             26165 non-null  float64\n",
      " 58  Location_Sadarghat           26165 non-null  float64\n",
      " 59  Location_Shahbagh            26165 non-null  float64\n",
      " 60  Location_Shahjahanpur        26165 non-null  float64\n",
      " 61  Location_Shantinagar         26165 non-null  float64\n",
      " 62  Location_Shegunbagicha       26165 non-null  float64\n",
      " 63  Location_Shiddheswari        26165 non-null  float64\n",
      " 64  Location_Shyamoli            26165 non-null  float64\n",
      " 65  Location_Shyampur            26165 non-null  float64\n",
      " 66  Location_Sutrapur            26165 non-null  float64\n",
      " 67  Location_Taltola             26165 non-null  float64\n",
      " 68  Location_Tejgaon             26165 non-null  float64\n",
      " 69  Location_Turag               26165 non-null  float64\n",
      " 70  Location_Uttar Khan          26165 non-null  float64\n",
      " 71  Location_Uttara              26165 non-null  float64\n",
      " 72  Location_Zafrabad            26165 non-null  float64\n",
      "dtypes: float64(70), int64(3)\n",
      "memory usage: 14.8 MB\n"
     ]
    }
   ],
   "source": [
    "df_encoded.info()"
   ]
  },
  {
   "cell_type": "markdown",
   "id": "600d3874",
   "metadata": {},
   "source": [
    "**Split feature and target**"
   ]
  },
  {
   "cell_type": "code",
   "execution_count": 353,
   "id": "8e36972a",
   "metadata": {},
   "outputs": [],
   "source": [
    "X=df_encoded.drop('Price',axis='columns')\n",
    "y=df_encoded['Price']"
   ]
  },
  {
   "cell_type": "code",
   "execution_count": 354,
   "id": "164a6e84",
   "metadata": {},
   "outputs": [],
   "source": [
    "from sklearn.model_selection import train_test_split\n",
    "X_train,X_test,y_train,y_test=train_test_split(X,y,train_size=0.8,random_state=15)"
   ]
  },
  {
   "cell_type": "code",
   "execution_count": 355,
   "id": "c931151d",
   "metadata": {},
   "outputs": [
    {
     "data": {
      "text/html": [
       "<style>#sk-container-id-7 {\n",
       "  /* Definition of color scheme common for light and dark mode */\n",
       "  --sklearn-color-text: #000;\n",
       "  --sklearn-color-text-muted: #666;\n",
       "  --sklearn-color-line: gray;\n",
       "  /* Definition of color scheme for unfitted estimators */\n",
       "  --sklearn-color-unfitted-level-0: #fff5e6;\n",
       "  --sklearn-color-unfitted-level-1: #f6e4d2;\n",
       "  --sklearn-color-unfitted-level-2: #ffe0b3;\n",
       "  --sklearn-color-unfitted-level-3: chocolate;\n",
       "  /* Definition of color scheme for fitted estimators */\n",
       "  --sklearn-color-fitted-level-0: #f0f8ff;\n",
       "  --sklearn-color-fitted-level-1: #d4ebff;\n",
       "  --sklearn-color-fitted-level-2: #b3dbfd;\n",
       "  --sklearn-color-fitted-level-3: cornflowerblue;\n",
       "\n",
       "  /* Specific color for light theme */\n",
       "  --sklearn-color-text-on-default-background: var(--sg-text-color, var(--theme-code-foreground, var(--jp-content-font-color1, black)));\n",
       "  --sklearn-color-background: var(--sg-background-color, var(--theme-background, var(--jp-layout-color0, white)));\n",
       "  --sklearn-color-border-box: var(--sg-text-color, var(--theme-code-foreground, var(--jp-content-font-color1, black)));\n",
       "  --sklearn-color-icon: #696969;\n",
       "\n",
       "  @media (prefers-color-scheme: dark) {\n",
       "    /* Redefinition of color scheme for dark theme */\n",
       "    --sklearn-color-text-on-default-background: var(--sg-text-color, var(--theme-code-foreground, var(--jp-content-font-color1, white)));\n",
       "    --sklearn-color-background: var(--sg-background-color, var(--theme-background, var(--jp-layout-color0, #111)));\n",
       "    --sklearn-color-border-box: var(--sg-text-color, var(--theme-code-foreground, var(--jp-content-font-color1, white)));\n",
       "    --sklearn-color-icon: #878787;\n",
       "  }\n",
       "}\n",
       "\n",
       "#sk-container-id-7 {\n",
       "  color: var(--sklearn-color-text);\n",
       "}\n",
       "\n",
       "#sk-container-id-7 pre {\n",
       "  padding: 0;\n",
       "}\n",
       "\n",
       "#sk-container-id-7 input.sk-hidden--visually {\n",
       "  border: 0;\n",
       "  clip: rect(1px 1px 1px 1px);\n",
       "  clip: rect(1px, 1px, 1px, 1px);\n",
       "  height: 1px;\n",
       "  margin: -1px;\n",
       "  overflow: hidden;\n",
       "  padding: 0;\n",
       "  position: absolute;\n",
       "  width: 1px;\n",
       "}\n",
       "\n",
       "#sk-container-id-7 div.sk-dashed-wrapped {\n",
       "  border: 1px dashed var(--sklearn-color-line);\n",
       "  margin: 0 0.4em 0.5em 0.4em;\n",
       "  box-sizing: border-box;\n",
       "  padding-bottom: 0.4em;\n",
       "  background-color: var(--sklearn-color-background);\n",
       "}\n",
       "\n",
       "#sk-container-id-7 div.sk-container {\n",
       "  /* jupyter's `normalize.less` sets `[hidden] { display: none; }`\n",
       "     but bootstrap.min.css set `[hidden] { display: none !important; }`\n",
       "     so we also need the `!important` here to be able to override the\n",
       "     default hidden behavior on the sphinx rendered scikit-learn.org.\n",
       "     See: https://github.com/scikit-learn/scikit-learn/issues/21755 */\n",
       "  display: inline-block !important;\n",
       "  position: relative;\n",
       "}\n",
       "\n",
       "#sk-container-id-7 div.sk-text-repr-fallback {\n",
       "  display: none;\n",
       "}\n",
       "\n",
       "div.sk-parallel-item,\n",
       "div.sk-serial,\n",
       "div.sk-item {\n",
       "  /* draw centered vertical line to link estimators */\n",
       "  background-image: linear-gradient(var(--sklearn-color-text-on-default-background), var(--sklearn-color-text-on-default-background));\n",
       "  background-size: 2px 100%;\n",
       "  background-repeat: no-repeat;\n",
       "  background-position: center center;\n",
       "}\n",
       "\n",
       "/* Parallel-specific style estimator block */\n",
       "\n",
       "#sk-container-id-7 div.sk-parallel-item::after {\n",
       "  content: \"\";\n",
       "  width: 100%;\n",
       "  border-bottom: 2px solid var(--sklearn-color-text-on-default-background);\n",
       "  flex-grow: 1;\n",
       "}\n",
       "\n",
       "#sk-container-id-7 div.sk-parallel {\n",
       "  display: flex;\n",
       "  align-items: stretch;\n",
       "  justify-content: center;\n",
       "  background-color: var(--sklearn-color-background);\n",
       "  position: relative;\n",
       "}\n",
       "\n",
       "#sk-container-id-7 div.sk-parallel-item {\n",
       "  display: flex;\n",
       "  flex-direction: column;\n",
       "}\n",
       "\n",
       "#sk-container-id-7 div.sk-parallel-item:first-child::after {\n",
       "  align-self: flex-end;\n",
       "  width: 50%;\n",
       "}\n",
       "\n",
       "#sk-container-id-7 div.sk-parallel-item:last-child::after {\n",
       "  align-self: flex-start;\n",
       "  width: 50%;\n",
       "}\n",
       "\n",
       "#sk-container-id-7 div.sk-parallel-item:only-child::after {\n",
       "  width: 0;\n",
       "}\n",
       "\n",
       "/* Serial-specific style estimator block */\n",
       "\n",
       "#sk-container-id-7 div.sk-serial {\n",
       "  display: flex;\n",
       "  flex-direction: column;\n",
       "  align-items: center;\n",
       "  background-color: var(--sklearn-color-background);\n",
       "  padding-right: 1em;\n",
       "  padding-left: 1em;\n",
       "}\n",
       "\n",
       "\n",
       "/* Toggleable style: style used for estimator/Pipeline/ColumnTransformer box that is\n",
       "clickable and can be expanded/collapsed.\n",
       "- Pipeline and ColumnTransformer use this feature and define the default style\n",
       "- Estimators will overwrite some part of the style using the `sk-estimator` class\n",
       "*/\n",
       "\n",
       "/* Pipeline and ColumnTransformer style (default) */\n",
       "\n",
       "#sk-container-id-7 div.sk-toggleable {\n",
       "  /* Default theme specific background. It is overwritten whether we have a\n",
       "  specific estimator or a Pipeline/ColumnTransformer */\n",
       "  background-color: var(--sklearn-color-background);\n",
       "}\n",
       "\n",
       "/* Toggleable label */\n",
       "#sk-container-id-7 label.sk-toggleable__label {\n",
       "  cursor: pointer;\n",
       "  display: flex;\n",
       "  width: 100%;\n",
       "  margin-bottom: 0;\n",
       "  padding: 0.5em;\n",
       "  box-sizing: border-box;\n",
       "  text-align: center;\n",
       "  align-items: start;\n",
       "  justify-content: space-between;\n",
       "  gap: 0.5em;\n",
       "}\n",
       "\n",
       "#sk-container-id-7 label.sk-toggleable__label .caption {\n",
       "  font-size: 0.6rem;\n",
       "  font-weight: lighter;\n",
       "  color: var(--sklearn-color-text-muted);\n",
       "}\n",
       "\n",
       "#sk-container-id-7 label.sk-toggleable__label-arrow:before {\n",
       "  /* Arrow on the left of the label */\n",
       "  content: \"▸\";\n",
       "  float: left;\n",
       "  margin-right: 0.25em;\n",
       "  color: var(--sklearn-color-icon);\n",
       "}\n",
       "\n",
       "#sk-container-id-7 label.sk-toggleable__label-arrow:hover:before {\n",
       "  color: var(--sklearn-color-text);\n",
       "}\n",
       "\n",
       "/* Toggleable content - dropdown */\n",
       "\n",
       "#sk-container-id-7 div.sk-toggleable__content {\n",
       "  display: none;\n",
       "  text-align: left;\n",
       "  /* unfitted */\n",
       "  background-color: var(--sklearn-color-unfitted-level-0);\n",
       "}\n",
       "\n",
       "#sk-container-id-7 div.sk-toggleable__content.fitted {\n",
       "  /* fitted */\n",
       "  background-color: var(--sklearn-color-fitted-level-0);\n",
       "}\n",
       "\n",
       "#sk-container-id-7 div.sk-toggleable__content pre {\n",
       "  margin: 0.2em;\n",
       "  border-radius: 0.25em;\n",
       "  color: var(--sklearn-color-text);\n",
       "  /* unfitted */\n",
       "  background-color: var(--sklearn-color-unfitted-level-0);\n",
       "}\n",
       "\n",
       "#sk-container-id-7 div.sk-toggleable__content.fitted pre {\n",
       "  /* unfitted */\n",
       "  background-color: var(--sklearn-color-fitted-level-0);\n",
       "}\n",
       "\n",
       "#sk-container-id-7 input.sk-toggleable__control:checked~div.sk-toggleable__content {\n",
       "  /* Expand drop-down */\n",
       "  display: block;\n",
       "  width: 100%;\n",
       "  overflow: visible;\n",
       "}\n",
       "\n",
       "#sk-container-id-7 input.sk-toggleable__control:checked~label.sk-toggleable__label-arrow:before {\n",
       "  content: \"▾\";\n",
       "}\n",
       "\n",
       "/* Pipeline/ColumnTransformer-specific style */\n",
       "\n",
       "#sk-container-id-7 div.sk-label input.sk-toggleable__control:checked~label.sk-toggleable__label {\n",
       "  color: var(--sklearn-color-text);\n",
       "  background-color: var(--sklearn-color-unfitted-level-2);\n",
       "}\n",
       "\n",
       "#sk-container-id-7 div.sk-label.fitted input.sk-toggleable__control:checked~label.sk-toggleable__label {\n",
       "  background-color: var(--sklearn-color-fitted-level-2);\n",
       "}\n",
       "\n",
       "/* Estimator-specific style */\n",
       "\n",
       "/* Colorize estimator box */\n",
       "#sk-container-id-7 div.sk-estimator input.sk-toggleable__control:checked~label.sk-toggleable__label {\n",
       "  /* unfitted */\n",
       "  background-color: var(--sklearn-color-unfitted-level-2);\n",
       "}\n",
       "\n",
       "#sk-container-id-7 div.sk-estimator.fitted input.sk-toggleable__control:checked~label.sk-toggleable__label {\n",
       "  /* fitted */\n",
       "  background-color: var(--sklearn-color-fitted-level-2);\n",
       "}\n",
       "\n",
       "#sk-container-id-7 div.sk-label label.sk-toggleable__label,\n",
       "#sk-container-id-7 div.sk-label label {\n",
       "  /* The background is the default theme color */\n",
       "  color: var(--sklearn-color-text-on-default-background);\n",
       "}\n",
       "\n",
       "/* On hover, darken the color of the background */\n",
       "#sk-container-id-7 div.sk-label:hover label.sk-toggleable__label {\n",
       "  color: var(--sklearn-color-text);\n",
       "  background-color: var(--sklearn-color-unfitted-level-2);\n",
       "}\n",
       "\n",
       "/* Label box, darken color on hover, fitted */\n",
       "#sk-container-id-7 div.sk-label.fitted:hover label.sk-toggleable__label.fitted {\n",
       "  color: var(--sklearn-color-text);\n",
       "  background-color: var(--sklearn-color-fitted-level-2);\n",
       "}\n",
       "\n",
       "/* Estimator label */\n",
       "\n",
       "#sk-container-id-7 div.sk-label label {\n",
       "  font-family: monospace;\n",
       "  font-weight: bold;\n",
       "  display: inline-block;\n",
       "  line-height: 1.2em;\n",
       "}\n",
       "\n",
       "#sk-container-id-7 div.sk-label-container {\n",
       "  text-align: center;\n",
       "}\n",
       "\n",
       "/* Estimator-specific */\n",
       "#sk-container-id-7 div.sk-estimator {\n",
       "  font-family: monospace;\n",
       "  border: 1px dotted var(--sklearn-color-border-box);\n",
       "  border-radius: 0.25em;\n",
       "  box-sizing: border-box;\n",
       "  margin-bottom: 0.5em;\n",
       "  /* unfitted */\n",
       "  background-color: var(--sklearn-color-unfitted-level-0);\n",
       "}\n",
       "\n",
       "#sk-container-id-7 div.sk-estimator.fitted {\n",
       "  /* fitted */\n",
       "  background-color: var(--sklearn-color-fitted-level-0);\n",
       "}\n",
       "\n",
       "/* on hover */\n",
       "#sk-container-id-7 div.sk-estimator:hover {\n",
       "  /* unfitted */\n",
       "  background-color: var(--sklearn-color-unfitted-level-2);\n",
       "}\n",
       "\n",
       "#sk-container-id-7 div.sk-estimator.fitted:hover {\n",
       "  /* fitted */\n",
       "  background-color: var(--sklearn-color-fitted-level-2);\n",
       "}\n",
       "\n",
       "/* Specification for estimator info (e.g. \"i\" and \"?\") */\n",
       "\n",
       "/* Common style for \"i\" and \"?\" */\n",
       "\n",
       ".sk-estimator-doc-link,\n",
       "a:link.sk-estimator-doc-link,\n",
       "a:visited.sk-estimator-doc-link {\n",
       "  float: right;\n",
       "  font-size: smaller;\n",
       "  line-height: 1em;\n",
       "  font-family: monospace;\n",
       "  background-color: var(--sklearn-color-background);\n",
       "  border-radius: 1em;\n",
       "  height: 1em;\n",
       "  width: 1em;\n",
       "  text-decoration: none !important;\n",
       "  margin-left: 0.5em;\n",
       "  text-align: center;\n",
       "  /* unfitted */\n",
       "  border: var(--sklearn-color-unfitted-level-1) 1pt solid;\n",
       "  color: var(--sklearn-color-unfitted-level-1);\n",
       "}\n",
       "\n",
       ".sk-estimator-doc-link.fitted,\n",
       "a:link.sk-estimator-doc-link.fitted,\n",
       "a:visited.sk-estimator-doc-link.fitted {\n",
       "  /* fitted */\n",
       "  border: var(--sklearn-color-fitted-level-1) 1pt solid;\n",
       "  color: var(--sklearn-color-fitted-level-1);\n",
       "}\n",
       "\n",
       "/* On hover */\n",
       "div.sk-estimator:hover .sk-estimator-doc-link:hover,\n",
       ".sk-estimator-doc-link:hover,\n",
       "div.sk-label-container:hover .sk-estimator-doc-link:hover,\n",
       ".sk-estimator-doc-link:hover {\n",
       "  /* unfitted */\n",
       "  background-color: var(--sklearn-color-unfitted-level-3);\n",
       "  color: var(--sklearn-color-background);\n",
       "  text-decoration: none;\n",
       "}\n",
       "\n",
       "div.sk-estimator.fitted:hover .sk-estimator-doc-link.fitted:hover,\n",
       ".sk-estimator-doc-link.fitted:hover,\n",
       "div.sk-label-container:hover .sk-estimator-doc-link.fitted:hover,\n",
       ".sk-estimator-doc-link.fitted:hover {\n",
       "  /* fitted */\n",
       "  background-color: var(--sklearn-color-fitted-level-3);\n",
       "  color: var(--sklearn-color-background);\n",
       "  text-decoration: none;\n",
       "}\n",
       "\n",
       "/* Span, style for the box shown on hovering the info icon */\n",
       ".sk-estimator-doc-link span {\n",
       "  display: none;\n",
       "  z-index: 9999;\n",
       "  position: relative;\n",
       "  font-weight: normal;\n",
       "  right: .2ex;\n",
       "  padding: .5ex;\n",
       "  margin: .5ex;\n",
       "  width: min-content;\n",
       "  min-width: 20ex;\n",
       "  max-width: 50ex;\n",
       "  color: var(--sklearn-color-text);\n",
       "  box-shadow: 2pt 2pt 4pt #999;\n",
       "  /* unfitted */\n",
       "  background: var(--sklearn-color-unfitted-level-0);\n",
       "  border: .5pt solid var(--sklearn-color-unfitted-level-3);\n",
       "}\n",
       "\n",
       ".sk-estimator-doc-link.fitted span {\n",
       "  /* fitted */\n",
       "  background: var(--sklearn-color-fitted-level-0);\n",
       "  border: var(--sklearn-color-fitted-level-3);\n",
       "}\n",
       "\n",
       ".sk-estimator-doc-link:hover span {\n",
       "  display: block;\n",
       "}\n",
       "\n",
       "/* \"?\"-specific style due to the `<a>` HTML tag */\n",
       "\n",
       "#sk-container-id-7 a.estimator_doc_link {\n",
       "  float: right;\n",
       "  font-size: 1rem;\n",
       "  line-height: 1em;\n",
       "  font-family: monospace;\n",
       "  background-color: var(--sklearn-color-background);\n",
       "  border-radius: 1rem;\n",
       "  height: 1rem;\n",
       "  width: 1rem;\n",
       "  text-decoration: none;\n",
       "  /* unfitted */\n",
       "  color: var(--sklearn-color-unfitted-level-1);\n",
       "  border: var(--sklearn-color-unfitted-level-1) 1pt solid;\n",
       "}\n",
       "\n",
       "#sk-container-id-7 a.estimator_doc_link.fitted {\n",
       "  /* fitted */\n",
       "  border: var(--sklearn-color-fitted-level-1) 1pt solid;\n",
       "  color: var(--sklearn-color-fitted-level-1);\n",
       "}\n",
       "\n",
       "/* On hover */\n",
       "#sk-container-id-7 a.estimator_doc_link:hover {\n",
       "  /* unfitted */\n",
       "  background-color: var(--sklearn-color-unfitted-level-3);\n",
       "  color: var(--sklearn-color-background);\n",
       "  text-decoration: none;\n",
       "}\n",
       "\n",
       "#sk-container-id-7 a.estimator_doc_link.fitted:hover {\n",
       "  /* fitted */\n",
       "  background-color: var(--sklearn-color-fitted-level-3);\n",
       "}\n",
       "\n",
       ".estimator-table summary {\n",
       "    padding: .5rem;\n",
       "    font-family: monospace;\n",
       "    cursor: pointer;\n",
       "}\n",
       "\n",
       ".estimator-table details[open] {\n",
       "    padding-left: 0.1rem;\n",
       "    padding-right: 0.1rem;\n",
       "    padding-bottom: 0.3rem;\n",
       "}\n",
       "\n",
       ".estimator-table .parameters-table {\n",
       "    margin-left: auto !important;\n",
       "    margin-right: auto !important;\n",
       "}\n",
       "\n",
       ".estimator-table .parameters-table tr:nth-child(odd) {\n",
       "    background-color: #fff;\n",
       "}\n",
       "\n",
       ".estimator-table .parameters-table tr:nth-child(even) {\n",
       "    background-color: #f6f6f6;\n",
       "}\n",
       "\n",
       ".estimator-table .parameters-table tr:hover {\n",
       "    background-color: #e0e0e0;\n",
       "}\n",
       "\n",
       ".estimator-table table td {\n",
       "    border: 1px solid rgba(106, 105, 104, 0.232);\n",
       "}\n",
       "\n",
       ".user-set td {\n",
       "    color:rgb(255, 94, 0);\n",
       "    text-align: left;\n",
       "}\n",
       "\n",
       ".user-set td.value pre {\n",
       "    color:rgb(255, 94, 0) !important;\n",
       "    background-color: transparent !important;\n",
       "}\n",
       "\n",
       ".default td {\n",
       "    color: black;\n",
       "    text-align: left;\n",
       "}\n",
       "\n",
       ".user-set td i,\n",
       ".default td i {\n",
       "    color: black;\n",
       "}\n",
       "\n",
       ".copy-paste-icon {\n",
       "    background-image: url(data:image/svg+xml;base64,PHN2ZyB4bWxucz0iaHR0cDovL3d3dy53My5vcmcvMjAwMC9zdmciIHZpZXdCb3g9IjAgMCA0NDggNTEyIj48IS0tIUZvbnQgQXdlc29tZSBGcmVlIDYuNy4yIGJ5IEBmb250YXdlc29tZSAtIGh0dHBzOi8vZm9udGF3ZXNvbWUuY29tIExpY2Vuc2UgLSBodHRwczovL2ZvbnRhd2Vzb21lLmNvbS9saWNlbnNlL2ZyZWUgQ29weXJpZ2h0IDIwMjUgRm9udGljb25zLCBJbmMuLS0+PHBhdGggZD0iTTIwOCAwTDMzMi4xIDBjMTIuNyAwIDI0LjkgNS4xIDMzLjkgMTQuMWw2Ny45IDY3LjljOSA5IDE0LjEgMjEuMiAxNC4xIDMzLjlMNDQ4IDMzNmMwIDI2LjUtMjEuNSA0OC00OCA0OGwtMTkyIDBjLTI2LjUgMC00OC0yMS41LTQ4LTQ4bDAtMjg4YzAtMjYuNSAyMS41LTQ4IDQ4LTQ4ek00OCAxMjhsODAgMCAwIDY0LTY0IDAgMCAyNTYgMTkyIDAgMC0zMiA2NCAwIDAgNDhjMCAyNi41LTIxLjUgNDgtNDggNDhMNDggNTEyYy0yNi41IDAtNDgtMjEuNS00OC00OEwwIDE3NmMwLTI2LjUgMjEuNS00OCA0OC00OHoiLz48L3N2Zz4=);\n",
       "    background-repeat: no-repeat;\n",
       "    background-size: 14px 14px;\n",
       "    background-position: 0;\n",
       "    display: inline-block;\n",
       "    width: 14px;\n",
       "    height: 14px;\n",
       "    cursor: pointer;\n",
       "}\n",
       "</style><body><div id=\"sk-container-id-7\" class=\"sk-top-container\"><div class=\"sk-text-repr-fallback\"><pre>LinearRegression()</pre><b>In a Jupyter environment, please rerun this cell to show the HTML representation or trust the notebook. <br />On GitHub, the HTML representation is unable to render, please try loading this page with nbviewer.org.</b></div><div class=\"sk-container\" hidden><div class=\"sk-item\"><div class=\"sk-estimator fitted sk-toggleable\"><input class=\"sk-toggleable__control sk-hidden--visually\" id=\"sk-estimator-id-7\" type=\"checkbox\" checked><label for=\"sk-estimator-id-7\" class=\"sk-toggleable__label fitted sk-toggleable__label-arrow\"><div><div>LinearRegression</div></div><div><a class=\"sk-estimator-doc-link fitted\" rel=\"noreferrer\" target=\"_blank\" href=\"https://scikit-learn.org/1.7/modules/generated/sklearn.linear_model.LinearRegression.html\">?<span>Documentation for LinearRegression</span></a><span class=\"sk-estimator-doc-link fitted\">i<span>Fitted</span></span></div></label><div class=\"sk-toggleable__content fitted\" data-param-prefix=\"\">\n",
       "        <div class=\"estimator-table\">\n",
       "            <details>\n",
       "                <summary>Parameters</summary>\n",
       "                <table class=\"parameters-table\">\n",
       "                  <tbody>\n",
       "                    \n",
       "        <tr class=\"default\">\n",
       "            <td><i class=\"copy-paste-icon\"\n",
       "                 onclick=\"copyToClipboard('fit_intercept',\n",
       "                          this.parentElement.nextElementSibling)\"\n",
       "            ></i></td>\n",
       "            <td class=\"param\">fit_intercept&nbsp;</td>\n",
       "            <td class=\"value\">True</td>\n",
       "        </tr>\n",
       "    \n",
       "\n",
       "        <tr class=\"default\">\n",
       "            <td><i class=\"copy-paste-icon\"\n",
       "                 onclick=\"copyToClipboard('copy_X',\n",
       "                          this.parentElement.nextElementSibling)\"\n",
       "            ></i></td>\n",
       "            <td class=\"param\">copy_X&nbsp;</td>\n",
       "            <td class=\"value\">True</td>\n",
       "        </tr>\n",
       "    \n",
       "\n",
       "        <tr class=\"default\">\n",
       "            <td><i class=\"copy-paste-icon\"\n",
       "                 onclick=\"copyToClipboard('tol',\n",
       "                          this.parentElement.nextElementSibling)\"\n",
       "            ></i></td>\n",
       "            <td class=\"param\">tol&nbsp;</td>\n",
       "            <td class=\"value\">1e-06</td>\n",
       "        </tr>\n",
       "    \n",
       "\n",
       "        <tr class=\"default\">\n",
       "            <td><i class=\"copy-paste-icon\"\n",
       "                 onclick=\"copyToClipboard('n_jobs',\n",
       "                          this.parentElement.nextElementSibling)\"\n",
       "            ></i></td>\n",
       "            <td class=\"param\">n_jobs&nbsp;</td>\n",
       "            <td class=\"value\">None</td>\n",
       "        </tr>\n",
       "    \n",
       "\n",
       "        <tr class=\"default\">\n",
       "            <td><i class=\"copy-paste-icon\"\n",
       "                 onclick=\"copyToClipboard('positive',\n",
       "                          this.parentElement.nextElementSibling)\"\n",
       "            ></i></td>\n",
       "            <td class=\"param\">positive&nbsp;</td>\n",
       "            <td class=\"value\">False</td>\n",
       "        </tr>\n",
       "    \n",
       "                  </tbody>\n",
       "                </table>\n",
       "            </details>\n",
       "        </div>\n",
       "    </div></div></div></div></div><script>function copyToClipboard(text, element) {\n",
       "    // Get the parameter prefix from the closest toggleable content\n",
       "    const toggleableContent = element.closest('.sk-toggleable__content');\n",
       "    const paramPrefix = toggleableContent ? toggleableContent.dataset.paramPrefix : '';\n",
       "    const fullParamName = paramPrefix ? `${paramPrefix}${text}` : text;\n",
       "\n",
       "    const originalStyle = element.style;\n",
       "    const computedStyle = window.getComputedStyle(element);\n",
       "    const originalWidth = computedStyle.width;\n",
       "    const originalHTML = element.innerHTML.replace('Copied!', '');\n",
       "\n",
       "    navigator.clipboard.writeText(fullParamName)\n",
       "        .then(() => {\n",
       "            element.style.width = originalWidth;\n",
       "            element.style.color = 'green';\n",
       "            element.innerHTML = \"Copied!\";\n",
       "\n",
       "            setTimeout(() => {\n",
       "                element.innerHTML = originalHTML;\n",
       "                element.style = originalStyle;\n",
       "            }, 2000);\n",
       "        })\n",
       "        .catch(err => {\n",
       "            console.error('Failed to copy:', err);\n",
       "            element.style.color = 'red';\n",
       "            element.innerHTML = \"Failed!\";\n",
       "            setTimeout(() => {\n",
       "                element.innerHTML = originalHTML;\n",
       "                element.style = originalStyle;\n",
       "            }, 2000);\n",
       "        });\n",
       "    return false;\n",
       "}\n",
       "\n",
       "document.querySelectorAll('.fa-regular.fa-copy').forEach(function(element) {\n",
       "    const toggleableContent = element.closest('.sk-toggleable__content');\n",
       "    const paramPrefix = toggleableContent ? toggleableContent.dataset.paramPrefix : '';\n",
       "    const paramName = element.parentElement.nextElementSibling.textContent.trim();\n",
       "    const fullParamName = paramPrefix ? `${paramPrefix}${paramName}` : paramName;\n",
       "\n",
       "    element.setAttribute('title', fullParamName);\n",
       "});\n",
       "</script></body>"
      ],
      "text/plain": [
       "LinearRegression()"
      ]
     },
     "execution_count": 355,
     "metadata": {},
     "output_type": "execute_result"
    }
   ],
   "source": [
    "from sklearn.linear_model import LinearRegression\n",
    "model=LinearRegression()\n",
    "model.fit(X_train,y_train)"
   ]
  },
  {
   "cell_type": "markdown",
   "id": "42f0acfe",
   "metadata": {},
   "source": [
    "**make prediction**"
   ]
  },
  {
   "cell_type": "code",
   "execution_count": 356,
   "id": "739e89c4",
   "metadata": {},
   "outputs": [
    {
     "data": {
      "text/plain": [
       "array([11317.74310188, 17970.67959798, 22308.6705215 , ...,\n",
       "       11720.93093695, 15557.59859352, 11568.14675197], shape=(5233,))"
      ]
     },
     "execution_count": 356,
     "metadata": {},
     "output_type": "execute_result"
    }
   ],
   "source": [
    "y_pred=model.predict(X_test)\n",
    "y_pred"
   ]
  },
  {
   "cell_type": "code",
   "execution_count": 357,
   "id": "8cacd881",
   "metadata": {},
   "outputs": [
    {
     "data": {
      "text/plain": [
       "0.9669273162316955"
      ]
     },
     "execution_count": 357,
     "metadata": {},
     "output_type": "execute_result"
    }
   ],
   "source": [
    "model.score(X_test,y_test)"
   ]
  },
  {
   "cell_type": "markdown",
   "id": "78bcf592",
   "metadata": {},
   "source": [
    "**Cross validation**"
   ]
  }
 ],
 "metadata": {
  "kernelspec": {
   "display_name": "myenv",
   "language": "python",
   "name": "python3"
  },
  "language_info": {
   "codemirror_mode": {
    "name": "ipython",
    "version": 3
   },
   "file_extension": ".py",
   "mimetype": "text/x-python",
   "name": "python",
   "nbconvert_exporter": "python",
   "pygments_lexer": "ipython3",
   "version": "3.11.4"
  }
 },
 "nbformat": 4,
 "nbformat_minor": 5
}
